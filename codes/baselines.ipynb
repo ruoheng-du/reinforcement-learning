{
  "cells": [
    {
      "cell_type": "markdown",
      "metadata": {},
      "source": [
        "### Stock Recommendation System with Reinforcement Learning - Baseline Models"
      ]
    },
    {
      "cell_type": "code",
      "execution_count": 1,
      "metadata": {},
      "outputs": [],
      "source": [
        "import pandas as pd\n",
        "import numpy as np\n",
        "from sklearn.ensemble import RandomForestClassifier\n",
        "from sklearn.model_selection import train_test_split\n",
        "from sklearn.metrics import accuracy_score\n",
        "from scipy.stats import norm"
      ]
    },
    {
      "cell_type": "markdown",
      "metadata": {},
      "source": [
        "#### Define Evaluation Metrics"
      ]
    },
    {
      "cell_type": "code",
      "execution_count": 2,
      "metadata": {},
      "outputs": [],
      "source": [
        "# ------------------------\n",
        "# Evaluation: Simulated Reward / Sharpe\n",
        "# ------------------------\n",
        "def evaluate_sharpe(returns):\n",
        "    returns = np.array(returns)\n",
        "    if len(returns) == 0 or np.std(returns) == 0:\n",
        "        return 0.0\n",
        "    return np.mean(returns) / np.std(returns)\n",
        "\n",
        "def preference_alignment_score(recommended_stock, current_style, styles):\n",
        "    \"\"\"Score whether the recommended stock aligns with current user preference\"\"\"\n",
        "    return 1 if recommended_stock in styles[current_style] else 0"
      ]
    },
    {
      "cell_type": "markdown",
      "metadata": {},
      "source": [
        "#### Define Baseline Models"
      ]
    },
    {
      "cell_type": "code",
      "execution_count": 88,
      "metadata": {},
      "outputs": [],
      "source": [
        "# ------------------------\n",
        "# Static Recommendation (Top-N Most Bought Stocks)\n",
        "# ------------------------\n",
        "def static_recommendation(df, top_k=5):\n",
        "    \"\"\"Recommend top-K most frequently bought stocks to everyone\"\"\"\n",
        "    top_stocks = df[df['Action'] == 'BUY']['Stock'].value_counts().head(top_k).index.tolist()\n",
        "    return top_stocks\n",
        "\n",
        "# ------------------------\n",
        "# Feature-driven Model (Supervised Learning)\n",
        "# ------------------------\n",
        "def train_feature_model(df):\n",
        "    \"\"\"Train a feature-based model to predict BUY/SELL (1/0)\"\"\"\n",
        "    df = df.dropna().copy()\n",
        "    df['Target'] = (df['Action'] == 'BUY').astype(int)\n",
        "    feature_cols = [\"Shares\", \"Price\", \"Daily_Return\", \"Volatility\", \"Momentum\", \"MA_10\", \"Volatility_10\", \"Risk_Preference\"]\n",
        "    X = df[feature_cols]\n",
        "    y = df['Target']\n",
        "    X_train, X_test, y_train, y_test = train_test_split(X, y, test_size=0.3, random_state=42)\n",
        "    model = RandomForestClassifier(n_estimators=100, random_state=42)\n",
        "    model.fit(X_train, y_train)\n",
        "    y_pred = model.predict(X_test)\n",
        "    acc = accuracy_score(y_test, y_pred)\n",
        "    return model, acc"
      ]
    },
    {
      "cell_type": "markdown",
      "metadata": {},
      "source": [
        "#### Training and Evaluating Baseline Models"
      ]
    },
    {
      "cell_type": "code",
      "execution_count": null,
      "metadata": {},
      "outputs": [],
      "source": [
        "# Load data\n",
        "df = pd.read_csv(\"data.csv\")"
      ]
    },
    {
      "cell_type": "markdown",
      "metadata": {},
      "source": [
        "##### Static Model"
      ]
    },
    {
      "cell_type": "code",
      "execution_count": 87,
      "metadata": {},
      "outputs": [
        {
          "name": "stdout",
          "output_type": "stream",
          "text": [
            "\n",
            "[Static Recommendation Baseline]\n",
            "Average Return: -80.4650, Sharpe: -0.3752, Alignment: 0.2505\n"
          ]
        }
      ],
      "source": [
        "# -----------------------------\n",
        "# Static Recommendation\n",
        "# -----------------------------\n",
        "df_eval = df[df[\"Date\"] >= \"2025-01-01\"].copy()\n",
        "all_stocks = df['Stock'].unique().tolist()\n",
        "static_stocks = static_recommendation(df, top_k=5)\n",
        "\n",
        "def evaluate_static(df_eval, static_stocks, styles, holding_days=5):\n",
        "    returns = []\n",
        "    alignments = []\n",
        "    for _, row in df_eval.iterrows():\n",
        "        chosen_stock = static_stocks[0]  # deterministic top stock recommendation\n",
        "        future_date = row[\"Date\"] + pd.Timedelta(days=holding_days)\n",
        "        future_row = df[(df[\"Stock\"] == chosen_stock) & (df[\"Date\"] >= future_date)].head(1)\n",
        "        if not future_row.empty:\n",
        "            price_now = row[\"Price\"]\n",
        "            price_future = future_row[\"Price\"].values[0]\n",
        "            ret = (price_future - price_now) * row[\"Risk_Preference\"]\n",
        "            returns.append(ret)\n",
        "            alignments.append(preference_alignment_score(chosen_stock, row[\"Style\"], styles))\n",
        "    return np.mean(returns), evaluate_sharpe(returns), np.mean(alignments)\n",
        "\n",
        "print(\"\\n[Static Recommendation Baseline]\")\n",
        "ret_s, sharpe_s, align_s = evaluate_static(df_eval, static_stocks, styles)\n",
        "print(f\"Average Return: {ret_s:.4f}, Sharpe: {sharpe_s:.4f}, Alignment: {align_s:.4f}\")"
      ]
    },
    {
      "cell_type": "markdown",
      "metadata": {},
      "source": [
        "##### Feature Model"
      ]
    },
    {
      "cell_type": "code",
      "execution_count": 89,
      "metadata": {},
      "outputs": [
        {
          "name": "stdout",
          "output_type": "stream",
          "text": [
            "\n",
            "[Feature-driven Model Baselin]\n",
            "Average Return: 0.1167, Sharpe: 0.0075, Alignment: 1.0000\n"
          ]
        }
      ],
      "source": [
        "# -----------------------------\n",
        "# Feature Model Evaluation\n",
        "# -----------------------------\n",
        "model, acc = train_feature_model(df)\n",
        "\n",
        "def evaluate_feature_model(model, df, styles, holding_days=5):\n",
        "    df_eval = df[df[\"Date\"] >= \"2025-01-01\"].dropna().copy().reset_index(drop=True)\n",
        "    feature_cols = [\"Shares\", \"Price\", \"Daily_Return\", \"Volatility\", \"Momentum\", \"MA_10\", \"Volatility_10\", \"Risk_Preference\"]\n",
        "    X = df_eval[feature_cols]\n",
        "    preds = model.predict(X)\n",
        "    returns = []\n",
        "    alignments = []\n",
        "    for i, row in df_eval.iterrows():\n",
        "        if preds[i] == 1:  # predicted BUY\n",
        "            future_date = row[\"Date\"] + pd.Timedelta(days=holding_days)\n",
        "            future_row = df[(df[\"Stock\"] == row[\"Stock\"]) & (df[\"Date\"] >= future_date)].head(1)\n",
        "            if not future_row.empty:\n",
        "                price_now = row[\"Price\"]\n",
        "                price_future = future_row[\"Price\"].values[0]\n",
        "                ret = (price_future - price_now) * row[\"Risk_Preference\"]\n",
        "                returns.append(ret)\n",
        "                alignments.append(preference_alignment_score(row[\"Stock\"], row[\"Style\"], styles))\n",
        "    return np.mean(returns), evaluate_sharpe(returns), np.mean(alignments)\n",
        "\n",
        "print(\"\\n[Feature-driven Model Baselin]\")\n",
        "ret_f, sharpe_f, align_f = evaluate_feature_model(model, df, styles)\n",
        "print(f\"Average Return: {ret_f:.4f}, Sharpe: {sharpe_f:.4f}, Alignment: {align_f:.4f}\")"
      ]
    }
  ],
  "metadata": {
    "colab": {
      "provenance": []
    },
    "kernelspec": {
      "display_name": ".venv",
      "language": "python",
      "name": "python3"
    },
    "language_info": {
      "codemirror_mode": {
        "name": "ipython",
        "version": 3
      },
      "file_extension": ".py",
      "mimetype": "text/x-python",
      "name": "python",
      "nbconvert_exporter": "python",
      "pygments_lexer": "ipython3",
      "version": "3.10.8"
    }
  },
  "nbformat": 4,
  "nbformat_minor": 0
}
